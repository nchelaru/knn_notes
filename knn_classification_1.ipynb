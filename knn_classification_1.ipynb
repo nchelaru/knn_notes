{
  "nbformat": 4,
  "nbformat_minor": 0,
  "metadata": {
    "colab": {
      "name": "k-Nearest Neighbours Classification",
      "provenance": [],
      "toc_visible": true,
      "include_colab_link": true
    },
    "kernelspec": {
      "name": "python3",
      "display_name": "Python 3"
    }
  },
  "cells": [
    {
      "cell_type": "markdown",
      "metadata": {
        "id": "view-in-github",
        "colab_type": "text"
      },
      "source": [
        "<a href=\"https://colab.research.google.com/github/nchelaru/knn_notes/blob/master/knn_classification_1.ipynb\" target=\"_parent\"><img src=\"https://colab.research.google.com/assets/colab-badge.svg\" alt=\"Open In Colab\"/></a>"
      ]
    },
    {
      "cell_type": "code",
      "metadata": {
        "id": "vkfRCMqtAFEc",
        "colab_type": "code",
        "colab": {}
      },
      "source": [
        "%load_ext rpy2.ipython"
      ],
      "execution_count": 0,
      "outputs": []
    },
    {
      "cell_type": "code",
      "metadata": {
        "id": "z8GcHSt5_6hw",
        "colab_type": "code",
        "outputId": "7fd8d341-a679-4bb6-b523-23ec4a9cb959",
        "colab": {
          "base_uri": "https://localhost:8080/",
          "height": 199
        }
      },
      "source": [
        "from sklearn.datasets import load_breast_cancer\n",
        "from sklearn.model_selection import train_test_split\n",
        "from sklearn.neighbors import KNeighborsClassifier\n",
        "import matplotlib.pyplot as plt\n",
        "\n",
        "cancer = load_breast_cancer()\n",
        "\n",
        "X_train, X_test, y_train, y_test = train_test_split(\n",
        "  cancer.data, cancer.target, stratify=cancer.target, random_state=66\n",
        ")\n",
        "\n",
        "training_accuracy = []\n",
        "\n",
        "test_accuracy = []\n",
        "\n",
        "neighbors_settings = range(1, 11)\n",
        "\n",
        "for n_neighbors in neighbors_settings:\n",
        "  clf = KNeighborsClassifier(n_neighbors = n_neighbors)\n",
        "  clf.fit(X_train, y_train)\n",
        "  \n",
        "  training_accuracy.append(clf.score(X_train, y_train))\n",
        "  \n",
        "  print(clf.score(X_test, y_test))\n",
        "  \n",
        "  test_accuracy.append(clf.score(X_test, y_test))"
      ],
      "execution_count": 0,
      "outputs": [
        {
          "output_type": "stream",
          "text": [
            "0.9020979020979021\n",
            "0.8881118881118881\n",
            "0.9230769230769231\n",
            "0.9230769230769231\n",
            "0.9230769230769231\n",
            "0.9370629370629371\n",
            "0.9300699300699301\n",
            "0.9300699300699301\n",
            "0.916083916083916\n",
            "0.916083916083916\n"
          ],
          "name": "stdout"
        }
      ]
    },
    {
      "cell_type": "code",
      "metadata": {
        "id": "SJFZquGnAEmX",
        "colab_type": "code",
        "outputId": "d17977f5-1c76-49ea-b7ff-b4707d54bc7b",
        "colab": {
          "base_uri": "https://localhost:8080/",
          "height": 302
        }
      },
      "source": [
        "plt.plot(neighbors_settings, training_accuracy, label='training accuracy')\n",
        "plt.plot(neighbors_settings, test_accuracy, label='test accuracy')\n",
        "plt.ylabel(\"Accurarcy\")\n",
        "plt.xlabel(\"n_neighbors\")\n",
        "plt.ylim([0,1])\n",
        "plt.legend()"
      ],
      "execution_count": 0,
      "outputs": [
        {
          "output_type": "execute_result",
          "data": {
            "text/plain": [
              "<matplotlib.legend.Legend at 0x7f659a44bfd0>"
            ]
          },
          "metadata": {
            "tags": []
          },
          "execution_count": 3
        },
        {
          "output_type": "display_data",
          "data": {
            "image/png": "[encoded data removed]",
            "text/plain": [
              "<Figure size 432x288 with 1 Axes>"
            ]
          },
          "metadata": {
            "tags": []
          }
        }
      ]
    },
    {
      "cell_type": "markdown",
      "metadata": {
        "id": "ejdxAce4Ct3F",
        "colab_type": "text"
      },
      "source": [
        "# Heading 1"
      ]
    },
    {
      "cell_type": "code",
      "metadata": {
        "id": "T6aWEWoGBJms",
        "colab_type": "code",
        "outputId": "dbaa9331-524f-4baf-cc6a-f144a81fc557",
        "colab": {
          "base_uri": "https://localhost:8080/",
          "height": 198
        }
      },
      "source": [
        "import pandas as pd\n",
        "\n",
        "tips = pd.read_csv(\"https://raw.githubusercontent.com/mwaskom/seaborn-data/master/tips.csv\")\n",
        "\n",
        "tips.head()"
      ],
      "execution_count": 0,
      "outputs": [
        {
          "output_type": "execute_result",
          "data": {
            "text/html": [
              "<div>\n",
              "<style scoped>\n",
              "    .dataframe tbody tr th:only-of-type {\n",
              "        vertical-align: middle;\n",
              "    }\n",
              "\n",
              "    .dataframe tbody tr th {\n",
              "        vertical-align: top;\n",
              "    }\n",
              "\n",
              "    .dataframe thead th {\n",
              "        text-align: right;\n",
              "    }\n",
              "</style>\n",
              "<table border=\"1\" class=\"dataframe\">\n",
              "  <thead>\n",
              "    <tr style=\"text-align: right;\">\n",
              "      <th></th>\n",
              "      <th>total_bill</th>\n",
              "      <th>tip</th>\n",
              "      <th>sex</th>\n",
              "      <th>smoker</th>\n",
              "      <th>day</th>\n",
              "      <th>time</th>\n",
              "      <th>size</th>\n",
              "    </tr>\n",
              "  </thead>\n",
              "  <tbody>\n",
              "    <tr>\n",
              "      <th>0</th>\n",
              "      <td>16.99</td>\n",
              "      <td>1.01</td>\n",
              "      <td>Female</td>\n",
              "      <td>No</td>\n",
              "      <td>Sun</td>\n",
              "      <td>Dinner</td>\n",
              "      <td>2</td>\n",
              "    </tr>\n",
              "    <tr>\n",
              "      <th>1</th>\n",
              "      <td>10.34</td>\n",
              "      <td>1.66</td>\n",
              "      <td>Male</td>\n",
              "      <td>No</td>\n",
              "      <td>Sun</td>\n",
              "      <td>Dinner</td>\n",
              "      <td>3</td>\n",
              "    </tr>\n",
              "    <tr>\n",
              "      <th>2</th>\n",
              "      <td>21.01</td>\n",
              "      <td>3.50</td>\n",
              "      <td>Male</td>\n",
              "      <td>No</td>\n",
              "      <td>Sun</td>\n",
              "      <td>Dinner</td>\n",
              "      <td>3</td>\n",
              "    </tr>\n",
              "    <tr>\n",
              "      <th>3</th>\n",
              "      <td>23.68</td>\n",
              "      <td>3.31</td>\n",
              "      <td>Male</td>\n",
              "      <td>No</td>\n",
              "      <td>Sun</td>\n",
              "      <td>Dinner</td>\n",
              "      <td>2</td>\n",
              "    </tr>\n",
              "    <tr>\n",
              "      <th>4</th>\n",
              "      <td>24.59</td>\n",
              "      <td>3.61</td>\n",
              "      <td>Female</td>\n",
              "      <td>No</td>\n",
              "      <td>Sun</td>\n",
              "      <td>Dinner</td>\n",
              "      <td>4</td>\n",
              "    </tr>\n",
              "  </tbody>\n",
              "</table>\n",
              "</div>"
            ],
            "text/plain": [
              "   total_bill   tip     sex smoker  day    time  size\n",
              "0       16.99  1.01  Female     No  Sun  Dinner     2\n",
              "1       10.34  1.66    Male     No  Sun  Dinner     3\n",
              "2       21.01  3.50    Male     No  Sun  Dinner     3\n",
              "3       23.68  3.31    Male     No  Sun  Dinner     2\n",
              "4       24.59  3.61  Female     No  Sun  Dinner     4"
            ]
          },
          "metadata": {
            "tags": []
          },
          "execution_count": 23
        }
      ]
    },
    {
      "cell_type": "code",
      "metadata": {
        "id": "FtG2tDBaB6Ev",
        "colab_type": "code",
        "outputId": "791ec99a-21cc-4c19-d3fa-ef256b4b837f",
        "colab": {
          "base_uri": "https://localhost:8080/",
          "height": 302
        }
      },
      "source": [
        "test_df = pd.read_csv('/content/drive/My Drive/colab_data/adjust.csv')\n",
        "\n",
        "test_df.head()"
      ],
      "execution_count": 0,
      "outputs": [
        {
          "output_type": "execute_result",
          "data": {
            "text/html": [
              "<div>\n",
              "<style scoped>\n",
              "    .dataframe tbody tr th:only-of-type {\n",
              "        vertical-align: middle;\n",
              "    }\n",
              "\n",
              "    .dataframe tbody tr th {\n",
              "        vertical-align: top;\n",
              "    }\n",
              "\n",
              "    .dataframe thead th {\n",
              "        text-align: right;\n",
              "    }\n",
              "</style>\n",
              "<table border=\"1\" class=\"dataframe\">\n",
              "  <thead>\n",
              "    <tr style=\"text-align: right;\">\n",
              "      <th></th>\n",
              "      <th>Unnamed: 0</th>\n",
              "      <th></th>\n",
              "      <th>问题编码</th>\n",
              "      <th>问题辞典内容</th>\n",
              "      <th>二级分类</th>\n",
              "      <th>三级分类</th>\n",
              "      <th>问题描述</th>\n",
              "      <th>发现时间</th>\n",
              "    </tr>\n",
              "  </thead>\n",
              "  <tbody>\n",
              "    <tr>\n",
              "      <th>0</th>\n",
              "      <td>0</td>\n",
              "      <td>1</td>\n",
              "      <td>CYLY3401D</td>\n",
              "      <td>调车作业中转线挂车把门站位不当。</td>\n",
              "      <td>调车作业</td>\n",
              "      <td>到岗到位</td>\n",
              "      <td>2019年2月25日21:35分检查1701号计划E11+ 55时，发现连结员王诗雨把门不当...</td>\n",
              "      <td>2019-02-25 21:57:00</td>\n",
              "    </tr>\n",
              "    <tr>\n",
              "      <th>1</th>\n",
              "      <td>1</td>\n",
              "      <td>2</td>\n",
              "      <td>CYLY1601D</td>\n",
              "      <td>未认真执行调车联控用语标准。</td>\n",
              "      <td>调车作业</td>\n",
              "      <td>调车联控用语</td>\n",
              "      <td>盯三调调车写实作业，21点4O分取冷走线作业，1号制动员未得到调车长回话就使用紧急停车键，联...</td>\n",
              "      <td>2019-02-25 22:06:00</td>\n",
              "    </tr>\n",
              "    <tr>\n",
              "      <th>2</th>\n",
              "      <td>2</td>\n",
              "      <td>3</td>\n",
              "      <td>CYLY3601D</td>\n",
              "      <td>防溜及存车情况的台帐登记或黑板标示与现场不符。</td>\n",
              "      <td>调车作业</td>\n",
              "      <td>表簿台账</td>\n",
              "      <td>2019年2月25日22时36分，在京广线检查广州车务段韶关东运转车间韶关直通场北扳道房调车...</td>\n",
              "      <td>2019-02-25 22:36:00</td>\n",
              "    </tr>\n",
              "    <tr>\n",
              "      <th>3</th>\n",
              "      <td>3</td>\n",
              "      <td>4</td>\n",
              "      <td>CYLY3201D</td>\n",
              "      <td>防溜措施未按规定及时在揭示牌上标记或擦抹，防溜器具未按规定配备或配备不足，防溜铁鞋未按规定编...</td>\n",
              "      <td>调车作业</td>\n",
              "      <td>防溜揭示</td>\n",
              "      <td>2月25日21:50检查海口站行车室揭示板，K457次19点31分到达2道后，已送K4道，但...</td>\n",
              "      <td>2019-02-25 22:49:00</td>\n",
              "    </tr>\n",
              "    <tr>\n",
              "      <th>4</th>\n",
              "      <td>4</td>\n",
              "      <td>5</td>\n",
              "      <td>CYLY1201D</td>\n",
              "      <td>调车作业计划格式错误、标记不规范或重点事项未标记。</td>\n",
              "      <td>调车作业</td>\n",
              "      <td>调车作业计划编制</td>\n",
              "      <td>2019年2月26日，调车录音回放笋岗站2班2调2月23日第B201号计划作业，发现站调在编...</td>\n",
              "      <td>2019-02-26 00:00:00</td>\n",
              "    </tr>\n",
              "  </tbody>\n",
              "</table>\n",
              "</div>"
            ],
            "text/plain": [
              "   Unnamed: 0  ...                 发现时间\n",
              "0           0  ...  2019-02-25 21:57:00\n",
              "1           1  ...  2019-02-25 22:06:00\n",
              "2           2  ...  2019-02-25 22:36:00\n",
              "3           3  ...  2019-02-25 22:49:00\n",
              "4           4  ...  2019-02-26 00:00:00\n",
              "\n",
              "[5 rows x 8 columns]"
            ]
          },
          "metadata": {
            "tags": []
          },
          "execution_count": 25
        }
      ]
    },
    {
      "cell_type": "code",
      "metadata": {
        "id": "Mt5IENguAUN1",
        "colab_type": "code",
        "outputId": "fd638835-f241-4f6d-c42e-4e42a0c7d34f",
        "colab": {
          "base_uri": "https://localhost:8080/",
          "height": 272
        }
      },
      "source": [
        "%%R\n",
        "\n",
        "library(dplyr)\n",
        "library(knitr)\n",
        "\n",
        "data(\"mtcars\") \n",
        "\n",
        "mtcars %>% top_n(5)\n"
      ],
      "execution_count": 0,
      "outputs": [
        {
          "output_type": "display_data",
          "data": {
            "text/plain": [
              "Selecting by carb\n",
              "    mpg cyl  disp  hp drat    wt  qsec vs am gear carb\n",
              "1  21.0   6 160.0 110 3.90 2.620 16.46  0  1    4    4\n",
              "2  21.0   6 160.0 110 3.90 2.875 17.02  0  1    4    4\n",
              "3  14.3   8 360.0 245 3.21 3.570 15.84  0  0    3    4\n",
              "4  19.2   6 167.6 123 3.92 3.440 18.30  1  0    4    4\n",
              "5  17.8   6 167.6 123 3.92 3.440 18.90  1  0    4    4\n",
              "6  10.4   8 472.0 205 2.93 5.250 17.98  0  0    3    4\n",
              "7  10.4   8 460.0 215 3.00 5.424 17.82  0  0    3    4\n",
              "8  14.7   8 440.0 230 3.23 5.345 17.42  0  0    3    4\n",
              "9  13.3   8 350.0 245 3.73 3.840 15.41  0  0    3    4\n",
              "10 15.8   8 351.0 264 4.22 3.170 14.50  0  1    5    4\n",
              "11 19.7   6 145.0 175 3.62 2.770 15.50  0  1    5    6\n",
              "12 15.0   8 301.0 335 3.54 3.570 14.60  0  1    5    8\n"
            ]
          },
          "metadata": {
            "tags": []
          }
        }
      ]
    },
    {
      "cell_type": "code",
      "metadata": {
        "id": "OhyVLt66AXlB",
        "colab_type": "code",
        "colab": {}
      },
      "source": [
        ""
      ],
      "execution_count": 0,
      "outputs": []
    }
  ]
}